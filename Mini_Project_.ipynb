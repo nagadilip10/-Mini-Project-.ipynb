{
  "nbformat": 4,
  "nbformat_minor": 0,
  "metadata": {
    "colab": {
      "name": " Mini Project .ipynb",
      "provenance": [],
      "collapsed_sections": [],
      "include_colab_link": true
    },
    "kernelspec": {
      "name": "python3",
      "display_name": "Python 3"
    },
    "language_info": {
      "name": "python"
    }
  },
  "cells": [
    {
      "cell_type": "markdown",
      "metadata": {
        "id": "view-in-github",
        "colab_type": "text"
      },
      "source": [
        "<a href=\"https://colab.research.google.com/github/nagadilip10/-Mini-Project-.ipynb/blob/main/Mini_Project_.ipynb\" target=\"_parent\"><img src=\"https://colab.research.google.com/assets/colab-badge.svg\" alt=\"Open In Colab\"/></a>"
      ]
    },
    {
      "cell_type": "markdown",
      "metadata": {
        "id": "hxnmOGBs41SP"
      },
      "source": [
        "My code"
      ]
    },
    {
      "cell_type": "code",
      "metadata": {
        "id": "3vMQ20mwDcyg",
        "colab": {
          "base_uri": "https://localhost:8080/"
        },
        "outputId": "3f99210c-511a-4697-8b7b-5067b3d068c5"
      },
      "source": [
        "!pip install bing-image-downloader "
      ],
      "execution_count": 29,
      "outputs": [
        {
          "output_type": "stream",
          "text": [
            "Requirement already satisfied: bing-image-downloader in /usr/local/lib/python3.7/dist-packages (1.0.4)\n",
            "time: 2.77 s (started: 2021-05-24 06:33:07 +00:00)\n"
          ],
          "name": "stdout"
        }
      ]
    },
    {
      "cell_type": "code",
      "metadata": {
        "id": "lqH01Hv-W_Lw",
        "colab": {
          "base_uri": "https://localhost:8080/"
        },
        "outputId": "18fd5196-8f97-49da-e45d-950beffd3d3f"
      },
      "source": [
        "!pip install ipython-autotime\n",
        "%load_ext autotime"
      ],
      "execution_count": 30,
      "outputs": [
        {
          "output_type": "stream",
          "text": [
            "Requirement already satisfied: ipython-autotime in /usr/local/lib/python3.7/dist-packages (0.3.1)\n",
            "Requirement already satisfied: ipython in /usr/local/lib/python3.7/dist-packages (from ipython-autotime) (5.5.0)\n",
            "Requirement already satisfied: traitlets>=4.2 in /usr/local/lib/python3.7/dist-packages (from ipython->ipython-autotime) (5.0.5)\n",
            "Requirement already satisfied: prompt-toolkit<2.0.0,>=1.0.4 in /usr/local/lib/python3.7/dist-packages (from ipython->ipython-autotime) (1.0.18)\n",
            "Requirement already satisfied: pexpect; sys_platform != \"win32\" in /usr/local/lib/python3.7/dist-packages (from ipython->ipython-autotime) (4.8.0)\n",
            "Requirement already satisfied: simplegeneric>0.8 in /usr/local/lib/python3.7/dist-packages (from ipython->ipython-autotime) (0.8.1)\n",
            "Requirement already satisfied: decorator in /usr/local/lib/python3.7/dist-packages (from ipython->ipython-autotime) (4.4.2)\n",
            "Requirement already satisfied: pygments in /usr/local/lib/python3.7/dist-packages (from ipython->ipython-autotime) (2.6.1)\n",
            "Requirement already satisfied: setuptools>=18.5 in /usr/local/lib/python3.7/dist-packages (from ipython->ipython-autotime) (56.1.0)\n",
            "Requirement already satisfied: pickleshare in /usr/local/lib/python3.7/dist-packages (from ipython->ipython-autotime) (0.7.5)\n",
            "Requirement already satisfied: ipython-genutils in /usr/local/lib/python3.7/dist-packages (from traitlets>=4.2->ipython->ipython-autotime) (0.2.0)\n",
            "Requirement already satisfied: six>=1.9.0 in /usr/local/lib/python3.7/dist-packages (from prompt-toolkit<2.0.0,>=1.0.4->ipython->ipython-autotime) (1.15.0)\n",
            "Requirement already satisfied: wcwidth in /usr/local/lib/python3.7/dist-packages (from prompt-toolkit<2.0.0,>=1.0.4->ipython->ipython-autotime) (0.2.5)\n",
            "Requirement already satisfied: ptyprocess>=0.5 in /usr/local/lib/python3.7/dist-packages (from pexpect; sys_platform != \"win32\"->ipython->ipython-autotime) (0.7.0)\n",
            "The autotime extension is already loaded. To reload it, use:\n",
            "  %reload_ext autotime\n",
            "time: 2.74 s (started: 2021-05-24 06:33:09 +00:00)\n"
          ],
          "name": "stdout"
        }
      ]
    },
    {
      "cell_type": "code",
      "metadata": {
        "id": "kWBC9j1yF1MG",
        "colab": {
          "base_uri": "https://localhost:8080/"
        },
        "outputId": "e1581577-39d7-4d6a-d506-d4484b439df3"
      },
      "source": [
        "!mkdir images\n",
        "#Making a directory with name image "
      ],
      "execution_count": 31,
      "outputs": [
        {
          "output_type": "stream",
          "text": [
            "mkdir: cannot create directory ‘images’: File exists\n",
            "time: 130 ms (started: 2021-05-24 06:33:12 +00:00)\n"
          ],
          "name": "stdout"
        }
      ]
    },
    {
      "cell_type": "code",
      "metadata": {
        "id": "RDhctoGJH4KD"
      },
      "source": [
        ""
      ],
      "execution_count": 31,
      "outputs": []
    },
    {
      "cell_type": "code",
      "metadata": {
        "id": "9xSFFoBrNCJW",
        "colab": {
          "base_uri": "https://localhost:8080/"
        },
        "outputId": "e242ac1d-7454-4765-eed9-07606a4ae383"
      },
      "source": [
        "from bing_image_downloader import downloader \n",
        "downloader.download(\"dumbell\", limit = 30 , output_dir='images ', adult_filter_off= False)"
      ],
      "execution_count": 32,
      "outputs": [
        {
          "output_type": "stream",
          "text": [
            "\n",
            "\n",
            "[!!]Indexing page: 1\n",
            "\n",
            "[%] Indexed 18 Images on Page 1.\n",
            "\n",
            "===============================================\n",
            "\n",
            "[%] Downloading Image #1 from https://i.ebayimg.com/00/s/MTAyNFg1NzY=/z/sK4AAOSwGjxcrFY7/$_86.JPG\n",
            "[%] File Downloaded !\n",
            "\n",
            "[%] Downloading Image #2 from https://www.physiocare.co.uk/wp-content/uploads/2015/10/Dumbells.jpg\n",
            "[%] File Downloaded !\n",
            "\n",
            "[%] Downloading Image #3 from https://i.ebayimg.com/00/s/NTc2WDEwMjQ=/z/hq4AAOSwKiZa73Xu/$_86.JPG\n",
            "[%] File Downloaded !\n",
            "\n",
            "[%] Downloading Image #4 from http://www.exercise-equipment-review.com/images/dumbell.jpg\n",
            "[%] File Downloaded !\n",
            "\n",
            "[%] Downloading Image #5 from https://i.ytimg.com/vi/SMYb7f6zi8A/maxresdefault.jpg\n",
            "[%] File Downloaded !\n",
            "\n",
            "[%] Downloading Image #6 from https://api.vgfit.com/media/blogFiles/dumbbell_crunch_workout.jpg\n",
            "[%] File Downloaded !\n",
            "\n",
            "[%] Downloading Image #7 from https://st.depositphotos.com/1825387/1821/i/950/depositphotos_18218217-stock-photo-dumbell.jpg\n",
            "[%] File Downloaded !\n",
            "\n",
            "[%] Downloading Image #8 from https://i.ytimg.com/vi/jv3dxTXrG-8/hqdefault.jpg\n",
            "[%] File Downloaded !\n",
            "\n",
            "[%] Downloading Image #9 from http://thumb7.shutterstock.com/display_pic_with_logo/154768/154768,1204571716,1/stock-photo-dumbell-10000978.jpg\n",
            "[Error]Invalid image, not saving http://thumb7.shutterstock.com/display_pic_with_logo/154768/154768,1204571716,1/stock-photo-dumbell-10000978.jpg\n",
            "\n",
            "[!] Issue getting: http://thumb7.shutterstock.com/display_pic_with_logo/154768/154768,1204571716,1/stock-photo-dumbell-10000978.jpg\n",
            "[!] Error:: No active exception to reraise\n",
            "[%] Downloading Image #9 from http://www.joannasoh.com/uploads/authors/1/videos/Exercise%20Library/247.-.00_00_13_13.jpg\n",
            "[%] File Downloaded !\n",
            "\n",
            "[%] Downloading Image #10 from https://fysiotherapielouwenmuilwijk.nl/wp-content/uploads/2020/05/dumbell-1500x430.png\n",
            "[%] File Downloaded !\n",
            "\n",
            "[%] Downloading Image #11 from https://i.ytimg.com/vi/qFZt5HY4kCQ/maxresdefault.jpg\n",
            "[%] File Downloaded !\n",
            "\n",
            "[%] Downloading Image #12 from https://i.ytimg.com/vi/1aGt6M7BtAA/maxresdefault.jpg\n",
            "[%] File Downloaded !\n",
            "\n",
            "[%] Downloading Image #13 from https://i.ytimg.com/vi/uZ-jtK0prxs/maxresdefault.jpg\n",
            "[%] File Downloaded !\n",
            "\n",
            "[%] Downloading Image #14 from https://www.fitnessheroes.fr/wp-content/uploads/2015/04/fentes-halteres-dumbell-lunges-TN.jpg\n",
            "[%] File Downloaded !\n",
            "\n",
            "[%] Downloading Image #15 from https://comps.canstockphoto.co.kr/dumbell-세트-스톡-일러스트_csp22719161.jpg\n",
            "[!] Issue getting: https://comps.canstockphoto.co.kr/dumbell-세트-스톡-일러스트_csp22719161.jpg\n",
            "[!] Error:: 'ascii' codec can't encode characters in position 13-14: ordinal not in range(128)\n",
            "[%] Downloading Image #15 from https://i.ytimg.com/vi/9gZN5KaZxCM/maxresdefault.jpg\n",
            "[%] File Downloaded !\n",
            "\n",
            "[%] Downloading Image #16 from https://i.ytimg.com/vi/elCeN39GFB8/hqdefault.jpg\n",
            "[%] File Downloaded !\n",
            "\n",
            "\n",
            "\n",
            "[!!]Indexing page: 2\n",
            "\n",
            "[%] Indexed 10 Images on Page 2.\n",
            "\n",
            "===============================================\n",
            "\n",
            "[%] Downloading Image #17 from https://cdn-ami-drupal.heartyhosting.com/sites/muscleandfitness.com/files/1280-dumbbell-shoulder-press.jpg\n",
            "[%] File Downloaded !\n",
            "\n",
            "[%] Downloading Image #18 from https://www.exercises.com.au/wp-content/uploads/2016/01/Dumbbell-push-jerk-1.png\n",
            "[%] File Downloaded !\n",
            "\n",
            "[%] Downloading Image #19 from https://i.ytimg.com/vi/3VcKaXpzqRo/maxresdefault.jpg\n",
            "[%] File Downloaded !\n",
            "\n",
            "[%] Downloading Image #20 from https://i.ytimg.com/vi/l3350t5Tmwc/maxresdefault.jpg\n",
            "[%] File Downloaded !\n",
            "\n",
            "[%] Downloading Image #21 from https://i.ytimg.com/vi/byxD_y2e_L8/hqdefault.jpg\n",
            "[%] File Downloaded !\n",
            "\n",
            "[%] Downloading Image #22 from http://i.ytimg.com/vi/unMZPDjMn10/maxresdefault.jpg\n",
            "[%] File Downloaded !\n",
            "\n",
            "[%] Downloading Image #23 from http://www.sliderbase.com/images/referats/104/image007.png\n",
            "[%] File Downloaded !\n",
            "\n",
            "[%] Downloading Image #24 from http://t.wallpaperweb.org/wallpaper/space/1366x768/Australia_1366x768.jpg\n",
            "[%] File Downloaded !\n",
            "\n",
            "[%] Downloading Image #25 from https://www.barnorama.com/wp-content/images/2011/02/m296/19.jpg\n",
            "[%] File Downloaded !\n",
            "\n",
            "[%] Downloading Image #26 from https://www.adpost.com/classifieds/upload/ph/sports_games/ph_sports_games.1219.1.jpg\n",
            "[%] File Downloaded !\n",
            "\n",
            "\n",
            "\n",
            "[!!]Indexing page: 3\n",
            "\n",
            "[%] Indexed 17 Images on Page 3.\n",
            "\n",
            "===============================================\n",
            "\n",
            "[%] Downloading Image #27 from https://www.physiocare.co.uk/wp-content/uploads/2015/10/Dumbells.jpg\n",
            "[%] File Downloaded !\n",
            "\n",
            "[%] Downloading Image #28 from https://i.ebayimg.com/00/s/NTc2WDEwMjQ=/z/hq4AAOSwKiZa73Xu/$_86.JPG\n",
            "[%] File Downloaded !\n",
            "\n",
            "[%] Downloading Image #29 from http://www.exercise-equipment-review.com/images/dumbell.jpg\n",
            "[%] File Downloaded !\n",
            "\n",
            "[%] Downloading Image #30 from https://i.ytimg.com/vi/SMYb7f6zi8A/maxresdefault.jpg\n",
            "[%] File Downloaded !\n",
            "\n",
            "\n",
            "\n",
            "[%] Done. Downloaded 30 images.\n",
            "\n",
            "===============================================\n",
            "\n",
            "time: 14.3 s (started: 2021-05-24 06:33:12 +00:00)\n"
          ],
          "name": "stdout"
        }
      ]
    },
    {
      "cell_type": "code",
      "metadata": {
        "id": "HZrr92bcN-Uv",
        "colab": {
          "base_uri": "https://localhost:8080/"
        },
        "outputId": "60136fad-40df-4764-9913-b8444af11771"
      },
      "source": [
        "from bing_image_downloader import downloader\n",
        "downloader.download(\"football\", limit = 30 , output_dir='images ', adult_filter_off= True)"
      ],
      "execution_count": 33,
      "outputs": [
        {
          "output_type": "stream",
          "text": [
            "\n",
            "\n",
            "[!!]Indexing page: 1\n",
            "\n",
            "[%] Indexed 10 Images on Page 1.\n",
            "\n",
            "===============================================\n",
            "\n",
            "[%] Downloading Image #1 from http://www.sickchirpse.com/wp-content/uploads/2014/06/mexico-fan.jpg\n",
            "[%] File Downloaded !\n",
            "\n",
            "[%] Downloading Image #2 from http://8by8mag.com/wp-content/uploads/2015/07/PSG.png\n",
            "[%] File Downloaded !\n",
            "\n",
            "[%] Downloading Image #3 from http://vsaauctions.com/ItemImages/000016/16969d_lg.jpeg\n",
            "[%] File Downloaded !\n",
            "\n",
            "[%] Downloading Image #4 from https://wallpapershome.com/images/wallpapers/madden-nfl-15-720x1280-american-football-sports-game-nfl-ps4-xbox-3240.jpg\n",
            "[%] File Downloaded !\n",
            "\n",
            "[%] Downloading Image #5 from https://weneedfun.com/wp-content/uploads/2016/01/Magnolia-Flower-16.jpg\n",
            "[%] File Downloaded !\n",
            "\n",
            "[%] Downloading Image #6 from https://hative.com/wp-content/uploads/2014/11/football-nail-art-designs/2-cool-football-nail-art-designs.jpg\n",
            "[%] File Downloaded !\n",
            "\n",
            "[%] Downloading Image #7 from https://ideas.evite.com/media/Gift-Exchange-Heineken-beer-1200.jpg\n",
            "[%] File Downloaded !\n",
            "\n",
            "[%] Downloading Image #8 from http://www.info-stades.fr/images/stade/Liverpool-stanley-park/HKS-project.jpg\n",
            "[%] File Downloaded !\n",
            "\n",
            "[%] Downloading Image #9 from https://dailybruin.com/images/galleries/gym-vs-stanford/web.LGK_2601.jpg\n",
            "[%] File Downloaded !\n",
            "\n",
            "[%] Downloading Image #10 from https://pbs.twimg.com/media/DZn9Ii_VwAANxy3.jpg:large\n",
            "[%] File Downloaded !\n",
            "\n",
            "\n",
            "\n",
            "[!!]Indexing page: 2\n",
            "\n",
            "[%] Indexed 10 Images on Page 2.\n",
            "\n",
            "===============================================\n",
            "\n",
            "[%] Downloading Image #11 from http://www.sickchirpse.com/wp-content/uploads/2014/06/mexico-fan.jpg\n",
            "[%] File Downloaded !\n",
            "\n",
            "[%] Downloading Image #12 from http://8by8mag.com/wp-content/uploads/2015/07/PSG.png\n",
            "[%] File Downloaded !\n",
            "\n",
            "[%] Downloading Image #13 from http://vsaauctions.com/ItemImages/000016/16969d_lg.jpeg\n",
            "[%] File Downloaded !\n",
            "\n",
            "[%] Downloading Image #14 from https://wallpapershome.com/images/wallpapers/madden-nfl-15-720x1280-american-football-sports-game-nfl-ps4-xbox-3240.jpg\n",
            "[%] File Downloaded !\n",
            "\n",
            "[%] Downloading Image #15 from https://weneedfun.com/wp-content/uploads/2016/01/Magnolia-Flower-16.jpg\n",
            "[%] File Downloaded !\n",
            "\n",
            "[%] Downloading Image #16 from https://hative.com/wp-content/uploads/2014/11/football-nail-art-designs/2-cool-football-nail-art-designs.jpg\n",
            "[%] File Downloaded !\n",
            "\n",
            "[%] Downloading Image #17 from https://ideas.evite.com/media/Gift-Exchange-Heineken-beer-1200.jpg\n",
            "[%] File Downloaded !\n",
            "\n",
            "[%] Downloading Image #18 from http://www.info-stades.fr/images/stade/Liverpool-stanley-park/HKS-project.jpg\n",
            "[%] File Downloaded !\n",
            "\n",
            "[%] Downloading Image #19 from https://dailybruin.com/images/galleries/gym-vs-stanford/web.LGK_2601.jpg\n",
            "[%] File Downloaded !\n",
            "\n",
            "[%] Downloading Image #20 from https://pbs.twimg.com/media/DZn9Ii_VwAANxy3.jpg:large\n",
            "[%] File Downloaded !\n",
            "\n",
            "\n",
            "\n",
            "[!!]Indexing page: 3\n",
            "\n",
            "[%] Indexed 9 Images on Page 3.\n",
            "\n",
            "===============================================\n",
            "\n",
            "[%] Downloading Image #21 from http://8by8mag.com/wp-content/uploads/2015/07/PSG.png\n",
            "[%] File Downloaded !\n",
            "\n",
            "[%] Downloading Image #22 from http://vsaauctions.com/ItemImages/000016/16969d_lg.jpeg\n",
            "[%] File Downloaded !\n",
            "\n",
            "[%] Downloading Image #23 from https://wallpapershome.com/images/wallpapers/madden-nfl-15-720x1280-american-football-sports-game-nfl-ps4-xbox-3240.jpg\n",
            "[%] File Downloaded !\n",
            "\n",
            "[%] Downloading Image #24 from https://weneedfun.com/wp-content/uploads/2016/01/Magnolia-Flower-16.jpg\n",
            "[%] File Downloaded !\n",
            "\n",
            "[%] Downloading Image #25 from https://hative.com/wp-content/uploads/2014/11/football-nail-art-designs/2-cool-football-nail-art-designs.jpg\n",
            "[%] File Downloaded !\n",
            "\n",
            "[%] Downloading Image #26 from http://www.info-stades.fr/images/stade/Liverpool-stanley-park/HKS-project.jpg\n",
            "[!] Issue getting: http://www.info-stades.fr/images/stade/Liverpool-stanley-park/HKS-project.jpg\n",
            "[!] Error:: [Errno 104] Connection reset by peer\n",
            "[%] Downloading Image #26 from https://pbs.twimg.com/media/DZn9Ii_VwAANxy3.jpg:large\n",
            "[%] File Downloaded !\n",
            "\n",
            "[%] Downloading Image #27 from https://dailybruin.com/images/galleries/gym-vs-stanford/web.LGK_2601.jpg\n",
            "[%] File Downloaded !\n",
            "\n",
            "[%] Downloading Image #28 from https://ideas.evite.com/media/Gift-Exchange-Heineken-beer-1200.jpg\n",
            "[%] File Downloaded !\n",
            "\n",
            "\n",
            "\n",
            "[!!]Indexing page: 4\n",
            "\n",
            "[%] Indexed 8 Images on Page 4.\n",
            "\n",
            "===============================================\n",
            "\n",
            "[%] Downloading Image #29 from https://wallpapershome.com/images/wallpapers/madden-nfl-15-720x1280-american-football-sports-game-nfl-ps4-xbox-3240.jpg\n",
            "[%] File Downloaded !\n",
            "\n",
            "[%] Downloading Image #30 from https://hative.com/wp-content/uploads/2014/11/football-nail-art-designs/2-cool-football-nail-art-designs.jpg\n",
            "[%] File Downloaded !\n",
            "\n",
            "\n",
            "\n",
            "[%] Done. Downloaded 30 images.\n",
            "\n",
            "===============================================\n",
            "\n",
            "time: 32.9 s (started: 2021-05-24 06:33:27 +00:00)\n"
          ],
          "name": "stdout"
        }
      ]
    },
    {
      "cell_type": "code",
      "metadata": {
        "id": "4bvR5dbyOxYK",
        "colab": {
          "base_uri": "https://localhost:8080/"
        },
        "outputId": "87f01263-0a8e-4f8e-b5e6-37c706a8a28e"
      },
      "source": [
        "# Preprocessing Data\n",
        "#Step 1 - Resizing\n",
        "#Step 2 - Flatting data\n",
        "\n",
        "#importing libraries\n",
        "\n",
        "import os \n",
        "import matplotlib.pyplot as plt \n",
        "import numpy as np \n",
        "from skimage.io import imread \n",
        "from skimage.transform import resize  #to resize images \n",
        "\n",
        "target = []\n",
        "images = []\n",
        "flat_data = []\n",
        "\n",
        "DATADIR = '/content/images '\n",
        "CATEGORIES = ['dumbell','football']\n",
        "\n",
        "for category in CATEGORIES:   #To iterate in categories\n",
        "   class_num = CATEGORIES.index(category)  #Labelling categories for easy access\n",
        "   path = os.path.join(DATADIR,category)   #creating a path to iterate via images\n",
        "   for img in os.listdir(path):\n",
        "     img_array = imread(os.path.join(path,img))  #reading images\n",
        "     img_resized = resize(img_array,(150,150,3)) #resizing images\n",
        "     flat_data.append(img_resized.flatten())     #flattening images\n",
        "     images.append(img_resized)\n",
        "     target.append(class_num)\n",
        "\n",
        "flat_data = np.array(flat_data)\n",
        "target = np.array(target)\n",
        "images = np.array(images)\n"
      ],
      "execution_count": 34,
      "outputs": [
        {
          "output_type": "stream",
          "text": [
            "time: 23.4 s (started: 2021-05-24 06:33:59 +00:00)\n"
          ],
          "name": "stdout"
        }
      ]
    },
    {
      "cell_type": "code",
      "metadata": {
        "id": "eyQZ6XdHNgeM",
        "colab": {
          "base_uri": "https://localhost:8080/"
        },
        "outputId": "f1e6870f-352e-4e8d-fd0d-37fa66922c12"
      },
      "source": [
        "from google.colab import drive\n",
        "drive.mount('/content/drive')"
      ],
      "execution_count": 35,
      "outputs": [
        {
          "output_type": "stream",
          "text": [
            "Drive already mounted at /content/drive; to attempt to forcibly remount, call drive.mount(\"/content/drive\", force_remount=True).\n",
            "time: 9.64 ms (started: 2021-05-24 06:34:23 +00:00)\n"
          ],
          "name": "stdout"
        }
      ]
    },
    {
      "cell_type": "code",
      "metadata": {
        "colab": {
          "base_uri": "https://localhost:8080/"
        },
        "id": "kPe9uscYXuS2",
        "outputId": "f3db43cb-dcdd-4575-d36c-24d1488ccb72"
      },
      "source": [
        "#Splitting Data into training and testing\n",
        "\n",
        "from sklearn.model_selection import train_test_split\n",
        "x_train,x_test,y_train,y_test = train_test_split(flat_data,target,test_size=0.3,random_state=109)\n",
        "\n"
      ],
      "execution_count": 36,
      "outputs": [
        {
          "output_type": "stream",
          "text": [
            "time: 18.2 ms (started: 2021-05-24 06:34:23 +00:00)\n"
          ],
          "name": "stdout"
        }
      ]
    },
    {
      "cell_type": "code",
      "metadata": {
        "id": "M95Bi_cyZHit",
        "colab": {
          "base_uri": "https://localhost:8080/"
        },
        "outputId": "49369f42-a2de-4003-d9b0-5abe1c704f9a"
      },
      "source": [
        "from sklearn.model_selection import GridSearchCV\n",
        "from sklearn import svm\n",
        "param_grid = [\n",
        "              { 'C':[1,10,100,1000], 'kernel':['linear']},\n",
        "              { 'C':[1,10,100,1000], 'gamma':[0.001,0.0001],'kernel':['rbf']},\n",
        "\n",
        "]\n",
        "\n",
        "svc = svm.SVC(probability=True)\n",
        "clf = GridSearchCV(svc,param_grid)\n",
        "clf.fit(x_train,y_train)"
      ],
      "execution_count": 37,
      "outputs": [
        {
          "output_type": "execute_result",
          "data": {
            "text/plain": [
              "GridSearchCV(cv=None, error_score=nan,\n",
              "             estimator=SVC(C=1.0, break_ties=False, cache_size=200,\n",
              "                           class_weight=None, coef0=0.0,\n",
              "                           decision_function_shape='ovr', degree=3,\n",
              "                           gamma='scale', kernel='rbf', max_iter=-1,\n",
              "                           probability=True, random_state=None, shrinking=True,\n",
              "                           tol=0.001, verbose=False),\n",
              "             iid='deprecated', n_jobs=None,\n",
              "             param_grid=[{'C': [1, 10, 100, 1000], 'kernel': ['linear']},\n",
              "                         {'C': [1, 10, 100, 1000], 'gamma': [0.001, 0.0001],\n",
              "                          'kernel': ['rbf']}],\n",
              "             pre_dispatch='2*n_jobs', refit=True, return_train_score=False,\n",
              "             scoring=None, verbose=0)"
            ]
          },
          "metadata": {
            "tags": []
          },
          "execution_count": 37
        },
        {
          "output_type": "stream",
          "text": [
            "time: 59.9 s (started: 2021-05-24 06:34:23 +00:00)\n"
          ],
          "name": "stdout"
        }
      ]
    },
    {
      "cell_type": "code",
      "metadata": {
        "colab": {
          "base_uri": "https://localhost:8080/"
        },
        "id": "CTrgU_tDbzZX",
        "outputId": "56121e8d-2c65-4778-ab10-d6624bb18b1f"
      },
      "source": [
        "y_pred = clf.predict(x_test)\n",
        "y_pred"
      ],
      "execution_count": 38,
      "outputs": [
        {
          "output_type": "execute_result",
          "data": {
            "text/plain": [
              "array([0, 0, 1, 1, 0, 1, 1, 0, 0, 0, 1, 0, 1, 0, 0, 1, 0, 0, 0, 0, 0, 0,\n",
              "       1, 0, 1])"
            ]
          },
          "metadata": {
            "tags": []
          },
          "execution_count": 38
        },
        {
          "output_type": "stream",
          "text": [
            "time: 140 ms (started: 2021-05-24 06:35:23 +00:00)\n"
          ],
          "name": "stdout"
        }
      ]
    },
    {
      "cell_type": "code",
      "metadata": {
        "colab": {
          "base_uri": "https://localhost:8080/"
        },
        "id": "x3-DkpZucldU",
        "outputId": "1a36e10b-b56e-4553-9e12-0f192fee486e"
      },
      "source": [
        "y_test"
      ],
      "execution_count": 39,
      "outputs": [
        {
          "output_type": "execute_result",
          "data": {
            "text/plain": [
              "array([0, 0, 1, 1, 0, 1, 1, 0, 0, 0, 1, 0, 1, 0, 0, 1, 0, 0, 0, 0, 0, 0,\n",
              "       1, 0, 1])"
            ]
          },
          "metadata": {
            "tags": []
          },
          "execution_count": 39
        },
        {
          "output_type": "stream",
          "text": [
            "time: 6.4 ms (started: 2021-05-24 06:35:23 +00:00)\n"
          ],
          "name": "stdout"
        }
      ]
    },
    {
      "cell_type": "code",
      "metadata": {
        "colab": {
          "base_uri": "https://localhost:8080/"
        },
        "id": "vMLPUUXjcm2f",
        "outputId": "940f203c-14af-4048-c175-b234a07a52d8"
      },
      "source": [
        "from sklearn.metrics import accuracy_score , confusion_matrix\n",
        "accuracy_score(y_pred,y_test)\n",
        "\n",
        "#Accuracy \n"
      ],
      "execution_count": 40,
      "outputs": [
        {
          "output_type": "execute_result",
          "data": {
            "text/plain": [
              "1.0"
            ]
          },
          "metadata": {
            "tags": []
          },
          "execution_count": 40
        },
        {
          "output_type": "stream",
          "text": [
            "time: 8.33 ms (started: 2021-05-24 06:35:23 +00:00)\n"
          ],
          "name": "stdout"
        }
      ]
    },
    {
      "cell_type": "code",
      "metadata": {
        "colab": {
          "base_uri": "https://localhost:8080/"
        },
        "id": "MOd0S-VWdBpg",
        "outputId": "31ceb747-1119-4aa3-eef3-a6fb556e9d5b"
      },
      "source": [
        "confusion_matrix(y_pred,y_test)"
      ],
      "execution_count": 41,
      "outputs": [
        {
          "output_type": "execute_result",
          "data": {
            "text/plain": [
              "array([[16,  0],\n",
              "       [ 0,  9]])"
            ]
          },
          "metadata": {
            "tags": []
          },
          "execution_count": 41
        },
        {
          "output_type": "stream",
          "text": [
            "time: 7.99 ms (started: 2021-05-24 06:35:23 +00:00)\n"
          ],
          "name": "stdout"
        }
      ]
    },
    {
      "cell_type": "code",
      "metadata": {
        "colab": {
          "base_uri": "https://localhost:8080/"
        },
        "id": "rzpesB6VdKtj",
        "outputId": "49486b7f-5b9d-426c-fa43-c9f5db5c1562"
      },
      "source": [
        "import pickle\n",
        "pickle.dump(clf,open('img_model.p', 'wb'))"
      ],
      "execution_count": 42,
      "outputs": [
        {
          "output_type": "stream",
          "text": [
            "time: 46.4 ms (started: 2021-05-24 06:35:23 +00:00)\n"
          ],
          "name": "stdout"
        }
      ]
    },
    {
      "cell_type": "code",
      "metadata": {
        "colab": {
          "base_uri": "https://localhost:8080/"
        },
        "id": "uBoth1XPdkUB",
        "outputId": "384746fe-a3f4-42f8-d467-c4f924616d4c"
      },
      "source": [
        "model = pickle.load(open('img_model.p','rb'))"
      ],
      "execution_count": 43,
      "outputs": [
        {
          "output_type": "stream",
          "text": [
            "time: 20.8 ms (started: 2021-05-24 06:35:23 +00:00)\n"
          ],
          "name": "stdout"
        }
      ]
    },
    {
      "cell_type": "code",
      "metadata": {
        "colab": {
          "base_uri": "https://localhost:8080/",
          "height": 319
        },
        "id": "j2G4utNreN70",
        "outputId": "11306927-a38f-49ad-9f1e-560a0e0d0d70"
      },
      "source": [
        "#Testing with an image\n",
        "flat_data = []\n",
        "url = input(\"Enter your URL\")\n",
        "img = imread(url)\n",
        "img_resized = resize(img,(150,150,3))\n",
        "flat_data.append(img_resized.flatten())\n",
        "flat_data = np.array(flat_data)\n",
        "print(img.shape)\n",
        "plt.imshow(img_resized)\n",
        "y_out = model.predict(flat_data)\n",
        "y_out = CATEGORIES[y_out[0]]\n",
        "print(f'Predicted Output:{y_out}')"
      ],
      "execution_count": 46,
      "outputs": [
        {
          "output_type": "stream",
          "text": [
            "Enter your URLhttps://image.shutterstock.com/image-photo/dumble-body-builder-use-everyday-260nw-786306163.jpg\n",
            "(280, 390, 3)\n",
            "Predicted Output:dumbell\n"
          ],
          "name": "stdout"
        },
        {
          "output_type": "display_data",
          "data": {
            "image/png": "[encoded data removed]",
            "text/plain": [
              "<Figure size 432x288 with 1 Axes>"
            ]
          },
          "metadata": {
            "tags": [],
            "needs_background": "light"
          }
        }
      ]
    }
  ]
}